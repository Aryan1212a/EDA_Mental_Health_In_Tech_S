{
  "nbformat": 4,
  "nbformat_minor": 0,
  "metadata": {
    "colab": {
      "private_outputs": true,
      "provenance": []
    },
    "kernelspec": {
      "name": "python3",
      "display_name": "Python 3"
    },
    "language_info": {
      "name": "python"
    }
  },
  "cells": [
    {
      "cell_type": "markdown",
      "source": [
        "# **Project Name**    -   Mental Health Survey EDA Analysis\n",
        "\n"
      ],
      "metadata": {
        "id": "vncDsAP0Gaoa"
      }
    },
    {
      "cell_type": "markdown",
      "source": [
        "##### **Project Type**    - EDA\n",
        "##### **Contribution**    - Individual"
      ],
      "metadata": {
        "id": "beRrZCGUAJYm"
      }
    },
    {
      "cell_type": "markdown",
      "source": [
        "# **Project Summary -**"
      ],
      "metadata": {
        "id": "FJNUwmbgGyua"
      }
    },
    {
      "cell_type": "markdown",
      "source": [
        "This exploratory data analysis project investigates mental health trends and treatment-seeking behaviors among technology industry professionals. The study examines a comprehensive dataset containing survey responses from tech workers across various company sizes, demographics, and work environments to understand the complex relationship between workplace factors and mental health outcomes.\n",
        "\n",
        "The analysis focuses on identifying key patterns in mental health treatment adoption, exploring demographic influences, and understanding workplace-related barriers that may prevent employees from seeking appropriate mental health support. Through systematic data visualization and statistical analysis, this project aims to uncover actionable insights that can inform better mental health policies and support systems within technology companies.\n",
        "\n",
        "Key areas of investigation include the impact of company size on treatment accessibility, the role of family history in treatment decisions, workplace interference levels caused by mental health issues, and the effectiveness of current mental health benefits and anonymity protections. The project employs multiple visualization techniques including distribution plots, correlation heatmaps, cross-tabulations, and comparative analyses to reveal underlying trends and relationships in the data.\n",
        "\n",
        "The findings from this analysis provide valuable insights for HR professionals, company leadership, and mental health advocates working to create more supportive work environments in the technology sector. By understanding the factors that influence mental health treatment seeking behavior, organizations can develop more targeted interventions and policies to support their employees' wellbeing."
      ],
      "metadata": {
        "id": "F6v_1wHtG2nS"
      }
    },
    {
      "cell_type": "markdown",
      "source": [
        "# **GitHub Link -**"
      ],
      "metadata": {
        "id": "w6K7xa23Elo4"
      }
    },
    {
      "cell_type": "markdown",
      "source": [
        "https://github.com/Aryan1212a/EDA_Mental_Health_In_Tech_S"
      ],
      "metadata": {
        "id": "h1o69JH3Eqqn"
      }
    },
    {
      "cell_type": "markdown",
      "source": [
        "# **Problem Statement**\n"
      ],
      "metadata": {
        "id": "yQaldy8SH6Dl"
      }
    },
    {
      "cell_type": "markdown",
      "source": [
        "**Primary Research Question**: What factors influence mental health treatment-seeking behavior among technology industry professionals, and how do workplace policies and demographics impact employees' willingness to seek mental health support?\n",
        "\n",
        "**Specific Business Objectives**:\n",
        "\n",
        "1. **Identify Treatment Barriers**: Determine the primary obstacles preventing tech employees from seeking mental health treatment, including workplace stigma, fear of consequences, and lack of adequate benefits.\n",
        "\n",
        "2. **Demographic Analysis**: Analyze how age, gender, company size, and remote work arrangements correlate with mental health treatment adoption rates.\n",
        "\n",
        "3. **Workplace Impact Assessment**: Quantify how mental health issues interfere with work performance and productivity across different organizational contexts.\n",
        "\n",
        "4. **Policy Effectiveness Evaluation**: Assess the relationship between existing mental health benefits, anonymity protections, and actual treatment utilization rates.\n",
        "\n",
        "5. **Risk Factor Identification**: Identify high-risk employee segments who may be underserved by current mental health support systems.\n",
        "\n",
        "The technology industry is known for its high-stress environment, long working hours, and competitive culture, which can significantly impact employee mental health. Despite growing awareness, many tech professionals still hesitate to seek mental health treatment due to various workplace and personal factors. Understanding these patterns is crucial for developing effective mental health strategies that not only support individual employees but also contribute to organizational success through improved productivity, reduced turnover, and enhanced workplace culture."
      ],
      "metadata": {
        "id": "DpeJGUA3kjGy"
      }
    },
    {
      "cell_type": "markdown",
      "source": [
        "#### **Define Your Business Objective?**"
      ],
      "metadata": {
        "id": "PH-0ReGfmX4f"
      }
    },
    {
      "cell_type": "markdown",
      "source": [
        "**Primary Goal**: To provide data-driven insights that enable technology companies to develop more effective mental health support programs, reduce treatment barriers, and create psychologically safe work environments that encourage employees to seek help when needed.\n",
        "\n",
        "**Strategic Outcomes**:\n",
        "- Improve employee wellbeing and job satisfaction\n",
        "- Reduce mental health-related productivity losses\n",
        "- Decrease employee turnover due to untreated mental health issues\n",
        "- Enhance company reputation as an employer of choice\n",
        "- Develop targeted interventions for high-risk employee groups"
      ],
      "metadata": {
        "id": "PhDvGCAqmjP1"
      }
    },
    {
      "cell_type": "markdown",
      "source": [
        "# **General Guidelines** : -  "
      ],
      "metadata": {
        "id": "mDgbUHAGgjLW"
      }
    },
    {
      "cell_type": "markdown",
      "source": [
        "1.   Well-structured, formatted, and commented code is required.\n",
        "2.   Exception Handling, Production Grade Code & Deployment Ready Code will be a plus. Those students will be awarded some additional credits.\n",
        "     \n",
        "     The additional credits will have advantages over other students during Star Student selection.\n",
        "       \n",
        "             [ Note: - Deployment Ready Code is defined as, the whole .ipynb notebook should be executable in one go\n",
        "                       without a single error logged. ]\n",
        "\n",
        "3.   Each and every logic should have proper comments.\n",
        "4. You may add as many number of charts you want. Make Sure for each and every chart the following format should be answered.\n",
        "        \n",
        "\n",
        "```\n",
        "# Chart visualization code\n",
        "```\n",
        "            \n",
        "\n",
        "*   Why did you pick the specific chart?\n",
        "*   What is/are the insight(s) found from the chart?\n",
        "* Will the gained insights help creating a positive business impact?\n",
        "Are there any insights that lead to negative growth? Justify with specific reason.\n",
        "\n",
        "5. You have to create at least 20 logical & meaningful charts having important insights.\n",
        "\n",
        "\n",
        "[ Hints : - Do the Vizualization in  a structured way while following \"UBM\" Rule.\n",
        "\n",
        "U - Univariate Analysis,\n",
        "\n",
        "B - Bivariate Analysis (Numerical - Categorical, Numerical - Numerical, Categorical - Categorical)\n",
        "\n",
        "M - Multivariate Analysis\n",
        " ]\n",
        "\n",
        "\n",
        "\n"
      ],
      "metadata": {
        "id": "ZrxVaUj-hHfC"
      }
    },
    {
      "cell_type": "markdown",
      "source": [
        "# ***Let's Begin !***"
      ],
      "metadata": {
        "id": "O_i_v8NEhb9l"
      }
    },
    {
      "cell_type": "markdown",
      "source": [
        "## ***1. Know Your Data***"
      ],
      "metadata": {
        "id": "HhfV-JJviCcP"
      }
    },
    {
      "cell_type": "markdown",
      "source": [
        "### Import Libraries"
      ],
      "metadata": {
        "id": "Y3lxredqlCYt"
      }
    },
    {
      "cell_type": "code",
      "source": [
        "#  Import Libraries\n",
        "\n",
        "import numpy as np\n",
        "import pandas as pd\n",
        "import matplotlib.pyplot as plt\n",
        "import seaborn as sns\n",
        "import plotly.express as px\n",
        "%matplotlib inline"
      ],
      "metadata": {
        "id": "M8Vqi-pPk-HR"
      },
      "execution_count": null,
      "outputs": []
    },
    {
      "cell_type": "markdown",
      "metadata": {
        "id": "3RnN4peoiCZX"
      },
      "source": [
        "### Dataset Loading"
      ]
    },
    {
      "cell_type": "code",
      "source": [
        "# Install gdown\n",
        "!pip install gdown\n",
        "\n",
        "import gdown\n",
        "import pandas as pd\n",
        "\n",
        "# Download using gdown\n",
        "file_id = '12d2oMT1OZTLLvbpB7yplh-44exnhrIcB'\n",
        "url = f'https://drive.google.com/uc?id={file_id}'\n",
        "\n",
        "# Download file\n",
        "gdown.download(url, 'dataset.csv', quiet=False)\n",
        "\n",
        "# Try to read\n",
        "try:\n",
        "    df = pd.read_csv('dataset.csv')\n",
        "    print(f\"✅ Success! Shape: {df.shape}\")\n",
        "    df.head()\n",
        "except Exception as e:\n",
        "    print(f\"Error: {e}\")\n",
        "    # Show file content to diagnose\n",
        "    with open('dataset.csv', 'r') as f:\n",
        "        print(\"First 200 characters:\")\n",
        "        print(repr(f.read(200)))"
      ],
      "metadata": {
        "id": "Swl44JK9wRtG"
      },
      "execution_count": null,
      "outputs": []
    },
    {
      "cell_type": "markdown",
      "source": [
        "### Dataset First View"
      ],
      "metadata": {
        "id": "x71ZqKXriCWQ"
      }
    },
    {
      "cell_type": "code",
      "source": [
        "# Dataset First Look\n",
        "display(df.head())"
      ],
      "metadata": {
        "id": "LWNFOSvLl09H"
      },
      "execution_count": null,
      "outputs": []
    },
    {
      "cell_type": "markdown",
      "source": [
        "### Dataset Rows & Columns count"
      ],
      "metadata": {
        "id": "7hBIi_osiCS2"
      }
    },
    {
      "cell_type": "code",
      "source": [
        "#  Dataset Rows & Columns count\n",
        "print(f\"The dataset has {df.shape[0]} rows and {df.shape[1]} columns.\")"
      ],
      "metadata": {
        "id": "Kllu7SJgmLij"
      },
      "execution_count": null,
      "outputs": []
    },
    {
      "cell_type": "markdown",
      "source": [
        "### Dataset Information"
      ],
      "metadata": {
        "id": "JlHwYmJAmNHm"
      }
    },
    {
      "cell_type": "code",
      "source": [
        "#  Dataset Information\n",
        "\n",
        "df.info()\n"
      ],
      "metadata": {
        "id": "e9hRXRi6meOf"
      },
      "execution_count": null,
      "outputs": []
    },
    {
      "cell_type": "markdown",
      "source": [
        "#### Duplicate Values"
      ],
      "metadata": {
        "id": "35m5QtbWiB9F"
      }
    },
    {
      "cell_type": "code",
      "source": [
        "# Duplicate Values\n",
        "# Count of duplicate rows\n",
        "duplicate_rows = df.duplicated().sum()\n",
        "print(f\"Number of duplicate rows: {duplicate_rows}\")"
      ],
      "metadata": {
        "id": "1sLdpKYkmox0"
      },
      "execution_count": null,
      "outputs": []
    },
    {
      "cell_type": "markdown",
      "source": [
        "#### Missing Values/Null Values"
      ],
      "metadata": {
        "id": "PoPl-ycgm1ru"
      }
    },
    {
      "cell_type": "code",
      "source": [
        "#  Missing Values/Null Values Count\n",
        "print(\"Missing values count per column:\")\n",
        "print(df.isnull().sum())"
      ],
      "metadata": {
        "id": "GgHWkxvamxVg"
      },
      "execution_count": null,
      "outputs": []
    },
    {
      "cell_type": "code",
      "source": [
        "#  Visualizing the missing values\n",
        "\n",
        "!pip install missingno\n",
        "\n",
        "import missingno as msno\n",
        "import matplotlib.pyplot as plt\n",
        "\n",
        "# Visualize missing values as a matrix\n",
        "msno.matrix(df)\n",
        "plt.title('Missing Values Matrix')\n",
        "plt.show()\n",
        "\n",
        "# Visualize missing values as a bar plot\n",
        "msno.bar(df)\n",
        "plt.title('Missing Values Bar Plot')\n",
        "plt.show()\n",
        "\n",
        "# Visualize missing values as a heatmap to see correlation of missingness\n",
        "msno.heatmap(df)\n",
        "plt.title('Missing Values Heatmap')\n",
        "plt.show()"
      ],
      "metadata": {
        "id": "3q5wnI3om9sJ"
      },
      "execution_count": null,
      "outputs": []
    },
    {
      "cell_type": "markdown",
      "source": [
        "### What did you know about your dataset?"
      ],
      "metadata": {
        "id": "H0kj-8xxnORC"
      }
    },
    {
      "cell_type": "markdown",
      "source": [
        "- **Dimensions:** The dataset contains 1259 rows and 27 columns.\n",
        "- **Data Types:** Most of the columns are of object type, representing categorical data. There is one numerical column, 'Age'.\n",
        "- **Missing Values:** There are missing values in several columns:\n",
        "- `state` has a significant number of missing values (515).\n",
        "- `work_interfere` has missing values (264).\n",
        "- `self_employed` has a small number of missing values (18).\n",
        "- `comments` has a very large number of missing values (1095).\n",
        "- **Duplicate Values:** We checked for duplicate rows and found none.\n",
        "- **Unique Values**: We've seen the unique values for all columns. Many categorical columns have a limited number of unique values, while others like Timestamp, Age, Gender, Country, state, and comments have a larger variety of unique entries.\n",
        "- **Initial Data View:** We looked at the first few rows, which gave us a glimpse of the data structure and the types of responses in columns like `Gender`, `Country`, `self_employed`, `treatment`, `work_interfere`, etc."
      ],
      "metadata": {
        "id": "gfoNAAC-nUe_"
      }
    },
    {
      "cell_type": "markdown",
      "source": [
        "## ***2. Understanding Your Variables***"
      ],
      "metadata": {
        "id": "nA9Y7ga8ng1Z"
      }
    },
    {
      "cell_type": "code",
      "source": [
        "#  Dataset Columns\n",
        "df.columns"
      ],
      "metadata": {
        "id": "j7xfkqrt5Ag5"
      },
      "execution_count": null,
      "outputs": []
    },
    {
      "cell_type": "code",
      "source": [
        "#  Dataset Describe\n",
        "df.describe(include='all')"
      ],
      "metadata": {
        "id": "DnOaZdaE5Q5t"
      },
      "execution_count": null,
      "outputs": []
    },
    {
      "cell_type": "markdown",
      "source": [
        "### Variables Description"
      ],
      "metadata": {
        "id": "PBTbrJXOngz2"
      }
    },
    {
      "cell_type": "markdown",
      "metadata": {
        "id": "d9d36ee3"
      },
      "source": [
        "1.  **`Timestamp`**: Object (string). The date and time when the survey response was submitted. Each entry is a specific timestamp.\n",
        "2.  **`Age`**: Integer (int64). The age of the survey respondent. This is the only numerical column. We've seen there were some invalid entries that needed cleaning.\n",
        "3.  **`Gender`**: Object (string). The self-reported gender of the respondent. This column had many inconsistent entries which we cleaned into categories like 'male', 'female', and 'other/unknown'.\n",
        "4.  **`Country`**: Object (string). The country where the respondent resides. There are many unique countries represented.\n",
        "5.  **`state`**: Object (string). The state within the US where the respondent resides. This column had a significant number of missing values, which we imputed with 'Unknown'. Only applicable for respondents in the United States.\n",
        "6.  **`self_employed`**: Object (string). Indicates if the respondent is self-employed ('Yes', 'No', or 'Unknown' after imputation).\n",
        "7.  **`family_history`**: Object (string). Indicates if the respondent has a family history of mental health issues ('Yes' or 'No').\n",
        "8.  **`treatment`**: Object (string). Indicates if the respondent has sought treatment for a mental health condition ('Yes' or 'No'). This is a key target variable for this analysis.\n",
        "9.  **`work_interfere`**: Object (string). Describes how much a mental health condition interferes with their work ('Often', 'Rarely', 'Never', 'Sometimes', or 'Unknown' after imputation).\n",
        "10. **`no_employees`**: Object (string). Represents the size of the company the respondent works for, categorized in ranges (e.g., '6-25', 'More than 1000').\n",
        "11. **`remote_work`**: Object (string). Indicates if the respondent works remotely ('Yes' or 'No').\n",
        "12. **`tech_company`**: Object (string). Indicates if the respondent works for a tech company ('Yes' or 'No'). Given the project context, most respondents are expected to be in tech.\n",
        "13. **`benefits`**: Object (string). Indicates if the employer provides mental health benefits ('Yes', 'No', or \"Don't know\").\n",
        "14. **`care_options`**: Object (string). Describes if the employer offers mental healthcare options or resources ('Yes', 'No', or 'Not sure').\n",
        "15. **`wellness_program`**: Object (string). Indicates if the employer has a wellness program ('Yes', 'No', or \"Don't know\").\n",
        "16. **`seek_help`**: Object (string). Describes how easy or difficult it is to seek help for mental health from the employer ('Yes', 'No', or \"Don't know\").\n",
        "17. **`anonymity`**: Object (string). Indicates if the employer provides anonymity protection for mental health treatment ('Yes', 'No', or \"Don't know\").\n",
        "18. **`leave`**: Object (string). Describes how easy or difficult it is to take medical leave for a mental health condition ('Somewhat easy', \"Don't know\", 'Somewhat difficult', 'Very difficult', 'Very easy').\n",
        "19. **`mental_health_consequence`**: Object (string). Indicates if the respondent believes discussing a mental health issue at work would have negative consequences ('Yes', 'No', or 'Maybe').\n",
        "20. **`phys_health_consequence`**: Object (string). Indicates if the respondent believes discussing a physical health issue at work would have negative consequences ('Yes', 'No', or 'Maybe').\n",
        "21. **`coworkers`**: Object (string). Describes comfort level discussing mental health issues with coworkers ('Some of them', 'No', or 'Yes').\n",
        "22. **`supervisor`**: Object (string). Describes comfort level discussing mental health issues with a direct supervisor ('Yes', 'No', or 'Some of them').\n",
        "23. **`mental_health_interview`**: Object (string). Indicates willingness to discuss a mental health issue with a potential employer during an interview ('No', 'Yes', or 'Maybe').\n",
        "24. **`phys_health_interview`**: Object (string). Indicates willingness to discuss a physical health issue with a potential employer during an interview ('Maybe', 'No', or 'Yes').\n",
        "25. **`mental_vs_physical`**: Object (string). Describes how the employer views mental health parity compared to physical health ('Yes', \"Don't know\", or 'No').\n",
        "26. **`obs_consequence`**: Object (string). Indicates if the respondent has observed negative consequences for coworkers who discussed a mental health issue at work ('No' or 'Yes').\n",
        "27. **`comments`**: Object (string). Open-ended comments from respondents. This column had a very high number of missing values and was dropped during data wrangling.\n",
        "\n",
        "This provides an overview of each variable and what it represents in the context of the survey."
      ]
    },
    {
      "cell_type": "markdown",
      "source": [
        "### Check Unique Values for each variable."
      ],
      "metadata": {
        "id": "u3PMJOP6ngxN"
      }
    },
    {
      "cell_type": "code",
      "source": [
        "#  Check Unique Values for each variable.\n",
        "for col in df.columns:\n",
        "    print(f\"Column: {col}\")\n",
        "    unique_values = df[col].unique()\n",
        "    print(f\"Number of unique values: {len(unique_values)}\")\n",
        "    if len(unique_values) < 20: # Print unique values if there are not too many\n",
        "        print(f\"Unique values: {unique_values}\")\n",
        "    else:\n",
        "        print(\"Unique values: Too many to display.\")\n",
        "    print(\"-\" * 30)"
      ],
      "metadata": {
        "id": "zms12Yq5n-jE"
      },
      "execution_count": null,
      "outputs": []
    },
    {
      "cell_type": "markdown",
      "source": [
        "## 3. ***Data Wrangling***"
      ],
      "metadata": {
        "id": "dauF4eBmngu3"
      }
    },
    {
      "cell_type": "markdown",
      "source": [
        "### Data Wrangling Code"
      ],
      "metadata": {
        "id": "bKJF3rekwFvQ"
      }
    },
    {
      "cell_type": "code",
      "source": [
        "# Write your code to make your dataset analysis ready.\n",
        "\n",
        "import numpy as np\n",
        "# Handle Missing Values\n",
        "# Option 1: Drop columns with a high percentage of missing values\n",
        "threshold = 0.5 # percentage threshold\n",
        "missing_percentage = df.isnull().sum() / len(df)\n",
        "cols_to_drop = missing_percentage[missing_percentage > threshold].index.tolist()\n",
        "df.drop(columns=cols_to_drop, inplace=True)\n",
        "print(f\"Dropped columns with > {threshold*100}% missing values: {cols_to_drop}\")\n",
        "\n",
        "# Option 2: Impute missing values for remaining columns\n",
        "# For numerical columns, use median or mean\n",
        "numerical_cols = df.select_dtypes(include=np.number).columns\n",
        "for col in numerical_cols:\n",
        "    if df[col].isnull().sum() > 0:\n",
        "        median_val = df[col].median() # or df[col].mean()\n",
        "        df[col].fillna(median_val, inplace=True)\n",
        "        print(f\"Imputed missing values in '{col}' with median.\")\n",
        "\n",
        "# For categorical columns, use mode\n",
        "categorical_cols = df.select_dtypes(include='object').columns\n",
        "for col in categorical_cols:\n",
        "    if df[col].isnull().sum() > 0:\n",
        "        mode_val = df[col].mode()[0]\n",
        "        df[col].fillna(mode_val, inplace=True)\n",
        "        print(f\"Imputed missing values in '{col}' with mode.\")\n",
        "\n",
        "# Verify missing values are handled\n",
        "print(\"\\nMissing values count after handling:\")\n",
        "print(df.isnull().sum())\n",
        "\n",
        "# Handle Duplicate Values (already counted, now remove)\n",
        "if duplicate_rows > 0:\n",
        "    df.drop_duplicates(inplace=True)\n",
        "    print(f\"\\nRemoved {duplicate_rows} duplicate rows.\")\n",
        "\n",
        "# Data Type Conversion (if necessary)\n",
        "# Examine unique values of object type columns to see if they can be converted\n",
        "# For example, if a column should be boolean but is 'Yes'/'No' or 1/0 strings\n",
        "for col in df.select_dtypes(include='object').columns:\n",
        "    print(f\"\\nUnique values in potential object type for conversion: {col}\")\n",
        "    print(df[col].unique())\n",
        "\n",
        "\n",
        "# Final check of the dataset info and first few rows\n",
        "print(\"\\nDataset Info after Wrangling:\")\n",
        "df.info()\n",
        "print(\"\\nDataset Head after Wrangling:\")\n",
        "display(df.head())\n",
        "\n"
      ],
      "metadata": {
        "id": "wk-9a2fpoLcV"
      },
      "execution_count": null,
      "outputs": []
    },
    {
      "cell_type": "markdown",
      "source": [
        "### What all manipulations have you done and insights you found?"
      ],
      "metadata": {
        "id": "MSa1f5Uengrz"
      }
    },
    {
      "cell_type": "markdown",
      "source": [
        "**Data Manipulations:**\n",
        "\n",
        "1. **Handling Missing Values:**\n",
        "- We checked for columns with a high percentage of missing values and decided not to drop any columns based on the 50% threshold (the `comments` column was the only one with a very high percentage of missing values, but it seems to have been dropped implicitly or in a previous version of the notebook that isn't fully reflected in the current state, as it's not present in `df.info()` after wrangling).\n",
        "- For the remaining columns with missing values (`state`, `self_employed`, `work_interfere`), we imputed them.\n",
        "- For the numerical 'Age' column, although it didn't have missing values after the initial load, we addressed invalid entries (like negative or extremely large values) by filtering the data for the histogram.\n",
        "- For categorical columns (`state`, `self_employed`, `work_interfere`), we imputed missing values with the mode (most frequent value) of each column.\n",
        "2. **Handling Duplicate Values**: We checked for duplicate rows and confirmed there were no duplicate rows to remove.\n",
        "3. **Data Cleaning (Gender):** We specifically cleaned the 'Gender' column to normalize inconsistent entries and remove extra spaces, grouping similar responses into 'male', 'female', and 'other/unknown' categories for accurate visualization.\n",
        "4. **Data Cleaning (Age):** For the Age distribution chart, we filtered out unrealistic age values to ensure a meaningful visualization.\n",
        "\n",
        "\n",
        "**Insights Found So Far:**\n",
        "- The dataset primarily consists of categorical data, with 'Age' being the only numerical variable.\n",
        "- Several columns had missing values, particularly 'state', 'work_interfere', and 'comments' (which was subsequently handled).\n",
        "- There are no duplicate rows in the dataset."
      ],
      "metadata": {
        "id": "LbyXE7I1olp8"
      }
    },
    {
      "cell_type": "markdown",
      "source": [
        "## ***4. Data Vizualization, Storytelling & Experimenting with charts : Understand the relationships between variables***"
      ],
      "metadata": {
        "id": "GF8Ens_Soomf"
      }
    },
    {
      "cell_type": "markdown",
      "source": [
        "#### Chart - 1"
      ],
      "metadata": {
        "id": "0wOQAZs5pc--"
      }
    },
    {
      "cell_type": "code",
      "source": [
        "plt.figure(figsize=(10, 6))\n",
        "treatment_counts = df['treatment'].value_counts()\n",
        "colors = ['#FF6B6B', '#4ECDC4']\n",
        "plt.pie(treatment_counts.values, labels=treatment_counts.index, autopct='%1.1f%%',\n",
        "        colors=colors, startangle=90)\n",
        "plt.title('Distribution of Mental Health Treatment Seeking Behavior', fontsize=16, fontweight='bold')\n",
        "plt.axis('equal')\n",
        "plt.show()"
      ],
      "metadata": {
        "id": "7v_ESjsspbW7"
      },
      "execution_count": null,
      "outputs": []
    },
    {
      "cell_type": "markdown",
      "source": [
        "##### 1. Why did you pick the specific chart?"
      ],
      "metadata": {
        "id": "K5QZ13OEpz2H"
      }
    },
    {
      "cell_type": "markdown",
      "source": [
        "I chose a pie chart because it effectively shows the proportion of people seeking vs. not seeking mental health treatment. Pie charts are ideal for displaying parts of a whole, making it easy to visualize the overall treatment-seeking behavior distribution in the dataset at a glance."
      ],
      "metadata": {
        "id": "XESiWehPqBRc"
      }
    },
    {
      "cell_type": "markdown",
      "source": [
        "##### 2. What is/are the insight(s) found from the chart?"
      ],
      "metadata": {
        "id": "lQ7QKXXCp7Bj"
      }
    },
    {
      "cell_type": "markdown",
      "source": [
        "* The chart reveals the percentage split between employees who seek mental health treatment versus those who don't\n",
        "* It provides a baseline understanding of treatment-seeking behavior prevalence in the workplace\n",
        "* Shows whether the majority of employees are proactive about their mental health or tend to avoid treatment\n",
        "* Highlights the potential gap between those who need help and those who actually seek it"
      ],
      "metadata": {
        "id": "C_j1G7yiqdRP"
      }
    },
    {
      "cell_type": "markdown",
      "source": [
        "##### 3. Will the gained insights help creating a positive business impact?\n",
        "Are there any insights that lead to negative growth? Justify with specific reason."
      ],
      "metadata": {
        "id": "448CDAPjqfQr"
      }
    },
    {
      "cell_type": "markdown",
      "source": [
        "**Positive Impact:** Yes, this insight is crucial for business planning. If a large percentage of employees aren't seeking treatment, companies can:\n",
        "\n",
        "* Design targeted mental health awareness campaigns\n",
        "* Allocate appropriate resources for mental health programs\n",
        "* Understand the scale of potential productivity issues related to untreated mental health conditions\n",
        "* Develop strategies to encourage treatment-seeking behavior\n",
        "\n",
        "**Potential Negative Growth:** If the majority avoid treatment, this could indicate underlying workplace culture issues, stigma, or inadequate mental health support systems that may lead to decreased productivity, increased absenteeism, and higher turnover rates."
      ],
      "metadata": {
        "id": "3cspy4FjqxJW"
      }
    },
    {
      "cell_type": "markdown",
      "source": [
        "#### Chart - 2"
      ],
      "metadata": {
        "id": "KSlN3yHqYklG"
      }
    },
    {
      "cell_type": "code",
      "source": [
        "# Chart 2 - Age Distribution of Survey Respondents\n",
        "# Define a reasonable age range\n",
        "min_age = 0\n",
        "max_age = 100 # Assuming a reasonable upper limit for survey respondents\n",
        "\n",
        "# Filter out rows with ages outside the reasonable range\n",
        "df_cleaned_age = df[(df['Age'] >= min_age) & (df['Age'] <= max_age)].copy()\n",
        "\n",
        "plt.figure(figsize=(12, 6))\n",
        "plt.hist(df_cleaned_age['Age'], bins=30, color='skyblue', alpha=0.7, edgecolor='black')\n",
        "plt.axvline(df_cleaned_age['Age'].mean(), color='red', linestyle='--', linewidth=2, label=f'Mean Age: {df_cleaned_age[\"Age\"].mean():.1f}')\n",
        "plt.xlabel('Age', fontsize=12)\n",
        "plt.ylabel('Frequency', fontsize=12)\n",
        "plt.title('Age Distribution of Survey Respondents', fontsize=16, fontweight='bold')\n",
        "plt.legend()\n",
        "plt.grid(True, alpha=0.3)\n",
        "plt.show()"
      ],
      "metadata": {
        "id": "R4YgtaqtYklH"
      },
      "execution_count": null,
      "outputs": []
    },
    {
      "cell_type": "markdown",
      "source": [
        "##### 1. Why did you pick the specific chart?"
      ],
      "metadata": {
        "id": "t6dVpIINYklI"
      }
    },
    {
      "cell_type": "markdown",
      "source": [
        "A histogram is perfect for showing the distribution of a continuous variable like age. It reveals the shape of the distribution, identifies the most common age groups, and helps detect any skewness or outliers in the data. The mean line provides additional context for central tendency."
      ],
      "metadata": {
        "id": "5aaW0BYyYklI"
      }
    },
    {
      "cell_type": "markdown",
      "source": [
        "##### 2. What is/are the insight(s) found from the chart?"
      ],
      "metadata": {
        "id": "ijmpgYnKYklI"
      }
    },
    {
      "cell_type": "markdown",
      "source": [
        "- Shows the age demographics of survey participants\n",
        "- Identifies which age groups are most represented in the workplace mental health discussion\n",
        "- Reveals if the data is normally distributed or skewed toward younger/older employees\n",
        "- The mean age line helps understand the typical age of respondents\n",
        "- May reveal generational patterns in workplace mental health awareness"
      ],
      "metadata": {
        "id": "PSx9atu2YklI"
      }
    },
    {
      "cell_type": "markdown",
      "source": [
        "##### 3. Will the gained insights help creating a positive business impact?\n",
        "Are there any insights that lead to negative growth? Justify with specific reason."
      ],
      "metadata": {
        "id": "-JiQyfWJYklI"
      }
    },
    {
      "cell_type": "markdown",
      "source": [
        "**Positive Impact**: Understanding age distribution enables:\n",
        "- Age-specific mental health program design\n",
        "- Targeted communication strategies for different generations\n",
        "- Resource allocation based on demographic needs\n",
        "- Identification of age groups that might need special attention\n",
        "\n",
        "**Potential Negative Growth**: If certain age groups are underrepresented, it might indicate:\n",
        "- Sampling bias that could lead to ineffective programs\n",
        "- Generational gaps in mental health awareness\n",
        "- Potential discrimination or accessibility issues for certain age groups"
      ],
      "metadata": {
        "id": "BcBbebzrYklV"
      }
    },
    {
      "cell_type": "markdown",
      "source": [
        "#### Chart - 3"
      ],
      "metadata": {
        "id": "EM7whBJCYoAo"
      }
    },
    {
      "cell_type": "code",
      "source": [
        "# Chart 3 - Gender Distribution\n",
        "\n",
        "# Clean 'Gender' column: Normalize inconsistent entries\n",
        "df['Gender'] = df['Gender'].str.lower().str.strip() # Add .str.strip()\n",
        "df['Gender'] = df['Gender'].replace(['m', 'male', 'male-ish', 'maile', 'mal', 'male (cis)', 'cis male', 'make', 'guy (-ish) ^_^', 'male leaning androgynous', 'man', 'msle', 'mail', 'cis man', 'malr'], 'male')\n",
        "df['Gender'] = df['Gender'].replace(['f', 'female', 'femake', 'cis female', 'woman', 'female ', 'cis-female/femme', 'female (trans)', 'female (cis)', 'femail'], 'female')\n",
        "df['Gender'] = df['Gender'].replace(['something kinda male?', 'queer/she/they', 'non-binary', 'all', 'enby', 'fluid', 'genderqueer', 'androgyne', 'agender', 'trans woman', 'neuter', 'queer', 'a little about you', 'p', 'ostensibly male, unsure what that really means'], 'other/unknown')\n",
        "\n",
        "\n",
        "plt.figure(figsize=(10, 6))\n",
        "gender_counts = df['Gender'].value_counts().head(10)  # Top 10 to avoid clutter\n",
        "sns.barplot(x=gender_counts.values, y=gender_counts.index, palette='viridis', hue=gender_counts.index, legend=False)\n",
        "plt.xlabel('Count', fontsize=12)\n",
        "plt.ylabel('Gender', fontsize=12)\n",
        "plt.title('Gender Distribution of Survey Respondents (Cleaned)', fontsize=16, fontweight='bold')\n",
        "plt.tight_layout()\n",
        "plt.show()"
      ],
      "metadata": {
        "id": "t6GMdE67YoAp"
      },
      "execution_count": null,
      "outputs": []
    },
    {
      "cell_type": "markdown",
      "source": [
        "##### 1. Why did you pick the specific chart?"
      ],
      "metadata": {
        "id": "fge-S5ZAYoAp"
      }
    },
    {
      "cell_type": "markdown",
      "source": [
        "A horizontal bar chart is ideal for categorical data with potentially long labels (gender categories). It provides clear comparison between different gender identities and handles multiple categories better than a pie chart, especially when there are many gender options."
      ],
      "metadata": {
        "id": "5dBItgRVYoAp"
      }
    },
    {
      "cell_type": "markdown",
      "source": [
        "##### 2. What is/are the insight(s) found from the chart?"
      ],
      "metadata": {
        "id": "85gYPyotYoAp"
      }
    },
    {
      "cell_type": "markdown",
      "source": [
        "- Shows the gender diversity of survey respondents\n",
        "- Identifies which gender groups are most/least represented\n",
        "- Reveals the inclusivity of the survey in capturing diverse gender identities\n",
        "- Helps understand if mental health discussions are inclusive across gender spectrum\n",
        "- May indicate which gender groups are more likely to participate in mental health surveys"
      ],
      "metadata": {
        "id": "4jstXR6OYoAp"
      }
    },
    {
      "cell_type": "markdown",
      "source": [
        "##### 3. Will the gained insights help creating a positive business impact?\n",
        "Are there any insights that lead to negative growth? Justify with specific reason."
      ],
      "metadata": {
        "id": "RoGjAbkUYoAp"
      }
    },
    {
      "cell_type": "markdown",
      "source": [
        "**Positive Impact**: Gender distribution insights enable:\n",
        "- Development of inclusive mental health programs\n",
        "- Targeted support for underrepresented gender groups\n",
        "- Ensuring equal access to mental health resources\n",
        "- Creating safe spaces for all gender identities\n",
        "\n",
        "**Potential Negative Growth**: Significant gender imbalances might indicate:\n",
        "- Workplace discrimination or bias\n",
        "- Barriers to participation for certain gender groups\n",
        "- Inadequate support systems for diverse gender identities"
      ],
      "metadata": {
        "id": "zfJ8IqMcYoAp"
      }
    },
    {
      "cell_type": "markdown",
      "source": [
        "#### Chart - 4"
      ],
      "metadata": {
        "id": "4Of9eVA-YrdM"
      }
    },
    {
      "cell_type": "code",
      "source": [
        "# Chart 4 - Mental Health Treatment by Company Size\n",
        "plt.figure(figsize=(12, 6))\n",
        "company_treatment = pd.crosstab(df['no_employees'], df['treatment'], normalize='index') * 100\n",
        "company_treatment.plot(kind='bar', stacked=True, color=['#FF6B6B', '#4ECDC4'])\n",
        "plt.xlabel('Company Size (Number of Employees)', fontsize=12)\n",
        "plt.ylabel('Percentage', fontsize=12)\n",
        "plt.title('Mental Health Treatment Distribution by Company Size', fontsize=16, fontweight='bold')\n",
        "plt.legend(title='Seeking Treatment', bbox_to_anchor=(1.05, 1), loc='upper left')\n",
        "plt.xticks(rotation=45)\n",
        "plt.tight_layout()\n",
        "plt.show()"
      ],
      "metadata": {
        "id": "irlUoxc8YrdO"
      },
      "execution_count": null,
      "outputs": []
    },
    {
      "cell_type": "markdown",
      "source": [
        "##### 1. Why did you pick the specific chart?"
      ],
      "metadata": {
        "id": "iky9q4vBYrdO"
      }
    },
    {
      "cell_type": "markdown",
      "source": [
        "A stacked bar chart effectively shows the relationship between two categorical variables (company size and treatment seeking). It allows for easy comparison of treatment rates across different company sizes while showing both absolute numbers and proportions."
      ],
      "metadata": {
        "id": "aJRCwT6DYrdO"
      }
    },
    {
      "cell_type": "markdown",
      "source": [
        "##### 2. What is/are the insight(s) found from the chart?"
      ],
      "metadata": {
        "id": "F6T5p64dYrdO"
      }
    },
    {
      "cell_type": "markdown",
      "source": [
        " Reveals how company size influences mental health treatment seeking behavior\n",
        "- Shows whether larger or smaller companies have higher treatment rates\n",
        "- Identifies potential correlation between organizational resources and employee treatment access\n",
        "- Highlights which company sizes might need targeted interventions\n",
        "- May reveal economies of scale in mental health support provision"
      ],
      "metadata": {
        "id": "Xx8WAJvtYrdO"
      }
    },
    {
      "cell_type": "markdown",
      "source": [
        "##### 3. Will the gained insights help creating a positive business impact?\n",
        "Are there any insights that lead to negative growth? Justify with specific reason."
      ],
      "metadata": {
        "id": "y-Ehk30pYrdP"
      }
    },
    {
      "cell_type": "markdown",
      "source": [
        "**Positive Impact**: Understanding company size effects enables:\n",
        "- Size-appropriate mental health program development\n",
        "- Benchmarking against similar-sized organizations\n",
        "- Targeted policy recommendations for different company sizes\n",
        "- Resource allocation strategies based on organizational capacity\n",
        "\n",
        "**Potential Negative Growth**: If smaller companies show lower treatment rates, it might indicate:\n",
        "- Resource limitations preventing adequate mental health support\n",
        "- Lack of awareness about available options\n",
        "- Potential competitive disadvantage in talent retention"
      ],
      "metadata": {
        "id": "jLNxxz7MYrdP"
      }
    },
    {
      "cell_type": "markdown",
      "source": [
        "#### Chart - 5"
      ],
      "metadata": {
        "id": "bamQiAODYuh1"
      }
    },
    {
      "cell_type": "code",
      "source": [
        "# Chart 5 - Family History vs Treatment Seeking\n",
        "plt.figure(figsize=(10, 6))\n",
        "family_treatment = pd.crosstab(df['family_history'], df['treatment'])\n",
        "sns.heatmap(family_treatment, annot=True, fmt='d', cmap='Blues', cbar_kws={'label': 'Count'})\n",
        "plt.xlabel('Seeking Treatment', fontsize=12)\n",
        "plt.ylabel('Family History of Mental Health Issues', fontsize=12)\n",
        "plt.title('Family History vs Mental Health Treatment Seeking', fontsize=16, fontweight='bold')\n",
        "plt.tight_layout()\n",
        "plt.show()"
      ],
      "metadata": {
        "id": "TIJwrbroYuh3"
      },
      "execution_count": null,
      "outputs": []
    },
    {
      "cell_type": "markdown",
      "source": [
        "##### 1. Why did you pick the specific chart?"
      ],
      "metadata": {
        "id": "QHF8YVU7Yuh3"
      }
    },
    {
      "cell_type": "markdown",
      "source": [
        "A heatmap is excellent for visualizing the relationship between two categorical variables. It uses color intensity to show the strength of association between family history of mental health issues and treatment seeking behavior, making patterns immediately visible."
      ],
      "metadata": {
        "id": "dcxuIMRPYuh3"
      }
    },
    {
      "cell_type": "markdown",
      "source": [
        "##### 2. What is/are the insight(s) found from the chart?"
      ],
      "metadata": {
        "id": "GwzvFGzlYuh3"
      }
    },
    {
      "cell_type": "markdown",
      "source": [
        "- Shows the correlation between family mental health history and personal treatment seeking\n",
        "- Reveals whether people with family history are more likely to seek treatment\n",
        "- Identifies patterns in hereditary mental health awareness\n",
        "- Highlights the role of family background in mental health decisions\n",
        "- May indicate the influence of family support systems on treatment access"
      ],
      "metadata": {
        "id": "uyqkiB8YYuh3"
      }
    },
    {
      "cell_type": "markdown",
      "source": [
        "##### 3. Will the gained insights help creating a positive business impact?\n",
        "Are there any insights that lead to negative growth? Justify with specific reason."
      ],
      "metadata": {
        "id": "qYpmQ266Yuh3"
      }
    },
    {
      "cell_type": "markdown",
      "source": [
        "**Positive Impact**: Family history insights enable:\n",
        "- Targeted outreach to employees with family mental health history\n",
        "- Development of family-inclusive mental health programs\n",
        "- Early intervention strategies for at-risk employees\n",
        "- Personalized support based on family background\n",
        "\n",
        "**Potential Negative Growth**: If family history doesn't correlate with treatment seeking, it might indicate:\n",
        "- Insufficient education about hereditary mental health risks\n",
        "- Stigma preventing treatment despite family history\n",
        "- Barriers to accessing family mental health information"
      ],
      "metadata": {
        "id": "_WtzZ_hCYuh4"
      }
    },
    {
      "cell_type": "markdown",
      "source": [
        "#### Chart - 6"
      ],
      "metadata": {
        "id": "OH-pJp9IphqM"
      }
    },
    {
      "cell_type": "code",
      "source": [
        "# Chart 6 - Work Interference Levels\n",
        "plt.figure(figsize=(12, 6))\n",
        "work_interfere_counts = df['work_interfere'].value_counts()\n",
        "colors = plt.cm.Set3(np.linspace(0, 1, len(work_interfere_counts)))\n",
        "plt.bar(work_interfere_counts.index, work_interfere_counts.values, color=colors)\n",
        "plt.xlabel('Work Interference Level', fontsize=12)\n",
        "plt.ylabel('Count', fontsize=12)\n",
        "plt.title('How Mental Health Issues Interfere with Work', fontsize=16, fontweight='bold')\n",
        "plt.xticks(rotation=45)\n",
        "plt.tight_layout()\n",
        "plt.show()"
      ],
      "metadata": {
        "id": "kuRf4wtuphqN"
      },
      "execution_count": null,
      "outputs": []
    },
    {
      "cell_type": "markdown",
      "source": [
        "##### 1. Why did you pick the specific chart?"
      ],
      "metadata": {
        "id": "bbFf2-_FphqN"
      }
    },
    {
      "cell_type": "markdown",
      "source": [
        "A bar chart clearly displays the frequency of different work interference levels, making it easy to compare how often mental health issues affect work performance. The categorical nature of interference levels makes bar charts the most appropriate visualization."
      ],
      "metadata": {
        "id": "loh7H2nzphqN"
      }
    },
    {
      "cell_type": "markdown",
      "source": [
        "##### 2. What is/are the insight(s) found from the chart?"
      ],
      "metadata": {
        "id": "_ouA3fa0phqN"
      }
    },
    {
      "cell_type": "markdown",
      "source": [
        " Shows the extent to which mental health issues interfere with work performance\n",
        "- Identifies the most common level of work interference\n",
        "- Reveals the productivity impact of mental health issues\n",
        "- Helps quantify the business cost of untreated mental health problems\n",
        "- Indicates the urgency of mental health interventions"
      ],
      "metadata": {
        "id": "VECbqPI7phqN"
      }
    },
    {
      "cell_type": "markdown",
      "source": [
        "##### 3. Will the gained insights help creating a positive business impact?\n",
        "Are there any insights that lead to negative growth? Justify with specific reason."
      ],
      "metadata": {
        "id": "Seke61FWphqN"
      }
    },
    {
      "cell_type": "markdown",
      "source": [
        "**Positive Impact**: Work interference data enables:\n",
        "- Quantification of productivity losses due to mental health issues\n",
        "- ROI calculations for mental health program investments\n",
        "- Development of accommodation strategies for affected employees\n",
        "- Evidence-based arguments for mental health resource allocation\n",
        "\n",
        "**Potential Negative Growth**: High work interference levels indicate:\n",
        "- Significant productivity losses\n",
        "- Potential quality issues in work output\n",
        "- Increased absenteeism and turnover risk\n",
        "- Competitive disadvantage due to reduced team performance"
      ],
      "metadata": {
        "id": "DW4_bGpfphqN"
      }
    },
    {
      "cell_type": "markdown",
      "source": [
        "#### Chart - 7"
      ],
      "metadata": {
        "id": "PIIx-8_IphqN"
      }
    },
    {
      "cell_type": "code",
      "source": [
        "# Chart 7 - Remote Work vs Mental Health Treatment\n",
        "plt.figure(figsize=(10, 6))\n",
        "remote_treatment = pd.crosstab(df['remote_work'], df['treatment'], normalize='index') * 100\n",
        "remote_treatment.plot(kind='bar', color=['#FF9999', '#66B2FF'])\n",
        "plt.xlabel('Remote Work', fontsize=12)\n",
        "plt.ylabel('Percentage', fontsize=12)\n",
        "plt.title('Mental Health Treatment by Remote Work Status', fontsize=16, fontweight='bold')\n",
        "plt.legend(title='Seeking Treatment')\n",
        "plt.xticks(rotation=0)\n",
        "plt.tight_layout()\n",
        "plt.show()"
      ],
      "metadata": {
        "id": "lqAIGUfyphqO"
      },
      "execution_count": null,
      "outputs": []
    },
    {
      "cell_type": "markdown",
      "source": [
        "##### 1. Why did you pick the specific chart?"
      ],
      "metadata": {
        "id": "t27r6nlMphqO"
      }
    },
    {
      "cell_type": "markdown",
      "source": [
        "A grouped bar chart effectively compares treatment seeking rates between remote and non-remote workers. It shows both absolute numbers and allows for easy percentage comparison between the two work arrangements."
      ],
      "metadata": {
        "id": "iv6ro40sphqO"
      }
    },
    {
      "cell_type": "markdown",
      "source": [
        "##### 2. What is/are the insight(s) found from the chart?"
      ],
      "metadata": {
        "id": "r2jJGEOYphqO"
      }
    },
    {
      "cell_type": "markdown",
      "source": [
        " Reveals whether remote work affects mental health treatment seeking behavior\n",
        "- Shows if remote workers have better or worse access to mental health resources\n",
        "- Identifies potential isolation effects of remote work on treatment decisions\n",
        "- Highlights the need for remote-work-specific mental health strategies\n",
        "- May indicate differences in work-life balance between remote and office workers"
      ],
      "metadata": {
        "id": "Po6ZPi4hphqO"
      }
    },
    {
      "cell_type": "markdown",
      "source": [
        "##### 3. Will the gained insights help creating a positive business impact?\n",
        "Are there any insights that lead to negative growth? Justify with specific reason."
      ],
      "metadata": {
        "id": "b0JNsNcRphqO"
      }
    },
    {
      "cell_type": "markdown",
      "source": [
        "**Positive Impact**: Remote work insights enable:\n",
        "- Development of remote-work-specific mental health programs\n",
        "- Targeted support for isolated remote workers\n",
        "- Hybrid work policies that optimize mental health outcomes\n",
        "- Virtual mental health resource deployment strategies\n",
        "\n",
        "**Potential Negative Growth**: If remote workers show lower treatment rates, it might indicate:\n",
        "- Increased isolation and reduced support access\n",
        "- Blurred work-life boundaries affecting mental health\n",
        "- Inadequate virtual mental health resource provision"
      ],
      "metadata": {
        "id": "xvSq8iUTphqO"
      }
    },
    {
      "cell_type": "markdown",
      "source": [
        "#### Chart - 8"
      ],
      "metadata": {
        "id": "BZR9WyysphqO"
      }
    },
    {
      "cell_type": "code",
      "source": [
        "# Chart 8 - Mental Health Benefits Availability\n",
        "plt.figure(figsize=(12, 6))\n",
        "benefits_counts = df['benefits'].value_counts()\n",
        "plt.pie(benefits_counts.values, labels=benefits_counts.index, autopct='%1.1f%%',\n",
        "        colors=['#FFB6C1', '#87CEEB', '#98FB98'], startangle=90)\n",
        "plt.title('Availability of Mental Health Benefits at Work', fontsize=16, fontweight='bold')\n",
        "plt.axis('equal')\n",
        "plt.show()"
      ],
      "metadata": {
        "id": "TdPTWpAVphqO"
      },
      "execution_count": null,
      "outputs": []
    },
    {
      "cell_type": "markdown",
      "source": [
        "##### 1. Why did you pick the specific chart?"
      ],
      "metadata": {
        "id": "jj7wYXLtphqO"
      }
    },
    {
      "cell_type": "markdown",
      "source": [
        "A pie chart effectively shows the proportion of employees who have access to mental health benefits versus those who don't. It provides a clear visual representation of benefit coverage gaps in the workplace."
      ],
      "metadata": {
        "id": "Ob8u6rCTphqO"
      }
    },
    {
      "cell_type": "markdown",
      "source": [
        "##### 2. What is/are the insight(s) found from the chart?"
      ],
      "metadata": {
        "id": "eZrbJ2SmphqO"
      }
    },
    {
      "cell_type": "markdown",
      "source": [
        "- Shows the percentage of employees with access to mental health benefits\n",
        "- Reveals gaps in mental health benefit provision\n",
        "- Identifies the scope of employer-sponsored mental health support\n",
        "- Highlights potential disparities in benefit access\n",
        "- Indicates the level of organizational commitment to employee mental health"
      ],
      "metadata": {
        "id": "mZtgC_hjphqO"
      }
    },
    {
      "cell_type": "markdown",
      "source": [
        "##### 3. Will the gained insights help creating a positive business impact?\n",
        "Are there any insights that lead to negative growth? Justify with specific reason."
      ],
      "metadata": {
        "id": "rFu4xreNphqO"
      }
    },
    {
      "cell_type": "markdown",
      "source": [
        "**Positive Impact**: Benefits availability data enables:\n",
        "- Identification of coverage gaps that need addressing\n",
        "- Benchmarking against industry standards for mental health benefits\n",
        "- ROI analysis for expanding mental health benefit offerings\n",
        "- Targeted advocacy for improved benefit packages\n",
        "\n",
        "**Potential Negative Growth**: Limited benefit availability indicates:\n",
        "- Potential legal compliance issues with mental health parity laws\n",
        "- Competitive disadvantage in talent acquisition and retention\n",
        "- Higher out-of-pocket costs for employees seeking treatment\n",
        "- Increased likelihood of untreated mental health conditions"
      ],
      "metadata": {
        "id": "ey_0qi68phqO"
      }
    },
    {
      "cell_type": "markdown",
      "source": [
        "#### Chart - 9"
      ],
      "metadata": {
        "id": "YJ55k-q6phqO"
      }
    },
    {
      "cell_type": "code",
      "source": [
        "# Chart 9 - Anonymity vs Treatment Seeking\n",
        "plt.figure(figsize=(10, 6))\n",
        "anonymity_treatment = pd.crosstab(df['anonymity'], df['treatment'])\n",
        "sns.heatmap(anonymity_treatment, annot=True, fmt='d', cmap='Greens',\n",
        "            cbar_kws={'label': 'Count'})\n",
        "plt.xlabel('Seeking Treatment', fontsize=12)\n",
        "plt.ylabel('Anonymity Protection', fontsize=12)\n",
        "plt.title('Anonymity Protection vs Mental Health Treatment Seeking', fontsize=16, fontweight='bold')\n",
        "plt.tight_layout()\n",
        "plt.show()"
      ],
      "metadata": {
        "id": "B2aS4O1ophqO"
      },
      "execution_count": null,
      "outputs": []
    },
    {
      "cell_type": "markdown",
      "source": [
        "##### 1. Why did you pick the specific chart?"
      ],
      "metadata": {
        "id": "gCFgpxoyphqP"
      }
    },
    {
      "cell_type": "markdown",
      "source": [
        "A heatmap effectively visualizes the relationship between anonymity protection and treatment seeking behavior. The color intensity makes it easy to identify patterns in how privacy concerns affect mental health treatment decisions.\n"
      ],
      "metadata": {
        "id": "TVxDimi2phqP"
      }
    },
    {
      "cell_type": "markdown",
      "source": [
        "##### 2. What is/are the insight(s) found from the chart?"
      ],
      "metadata": {
        "id": "OVtJsKN_phqQ"
      }
    },
    {
      "cell_type": "markdown",
      "source": [
        "- Shows how anonymity protection influences treatment seeking behavior\n",
        "- Reveals the importance of privacy in mental health decisions\n",
        "- Identifies whether lack of anonymity creates barriers to treatment\n",
        "- Highlights the role of trust in employer-employee mental health relationships\n",
        "- May indicate stigma levels in the workplace regarding mental health"
      ],
      "metadata": {
        "id": "ngGi97qjphqQ"
      }
    },
    {
      "cell_type": "markdown",
      "source": [
        "##### 3. Will the gained insights help creating a positive business impact?\n",
        "Are there any insights that lead to negative growth? Justify with specific reason."
      ],
      "metadata": {
        "id": "lssrdh5qphqQ"
      }
    },
    {
      "cell_type": "markdown",
      "source": [
        "**Positive Impact**: Anonymity insights enable:\n",
        "- Development of confidential mental health programs\n",
        "- Implementation of privacy-protected treatment options\n",
        "- Building trust through transparent privacy policies\n",
        "- Reduction of stigma-related barriers to treatment\n",
        "\n",
        "**Potential Negative Growth**: If anonymity concerns prevent treatment seeking, it indicates:\n",
        "- Trust issues between employees and employers\n",
        "- Potential discrimination fears affecting treatment decisions\n",
        "- Inadequate privacy protections in current mental health programs\n",
        "- Cultural stigma that may affect team dynamics and productivity"
      ],
      "metadata": {
        "id": "tBpY5ekJphqQ"
      }
    },
    {
      "cell_type": "markdown",
      "source": [
        "#### Chart - 10"
      ],
      "metadata": {
        "id": "U2RJ9gkRphqQ"
      }
    },
    {
      "cell_type": "code",
      "source": [
        "# Chart 10 - Mental Health Consequences Fear\n",
        "plt.figure(figsize=(12, 6))\n",
        "consequence_counts = df['mental_health_consequence'].value_counts()\n",
        "sns.barplot(x=consequence_counts.index, y=consequence_counts.values, palette='rocket')\n",
        "plt.xlabel('Fear of Mental Health Consequences', fontsize=12)\n",
        "plt.ylabel('Count', fontsize=12)\n",
        "plt.title('Fear of Consequences for Mental Health Issues at Work', fontsize=16, fontweight='bold')\n",
        "plt.xticks(rotation=45)\n",
        "plt.tight_layout()\n",
        "plt.show()"
      ],
      "metadata": {
        "id": "GM7a4YP4phqQ"
      },
      "execution_count": null,
      "outputs": []
    },
    {
      "cell_type": "markdown",
      "source": [
        "##### 1. Why did you pick the specific chart?"
      ],
      "metadata": {
        "id": "1M8mcRywphqQ"
      }
    },
    {
      "cell_type": "markdown",
      "source": [
        "A bar chart clearly displays the distribution of employee fears regarding mental health consequences at work. It effectively shows the frequency of different concern levels and makes it easy to identify the most common fears."
      ],
      "metadata": {
        "id": "8agQvks0phqQ"
      }
    },
    {
      "cell_type": "markdown",
      "source": [
        "##### 2. What is/are the insight(s) found from the chart?"
      ],
      "metadata": {
        "id": "tgIPom80phqQ"
      }
    },
    {
      "cell_type": "markdown",
      "source": [
        "- Shows the level of fear employees have about mental health consequences at work\n",
        "- Reveals whether workplace stigma is a significant barrier to treatment\n",
        "- Identifies the prevalence of discrimination concerns\n",
        "- Highlights the psychological safety level in the workplace regarding mental health\n",
        "- Indicates the effectiveness of current anti-discrimination policies"
      ],
      "metadata": {
        "id": "Qp13pnNzphqQ"
      }
    },
    {
      "cell_type": "markdown",
      "source": [
        "##### 3. Will the gained insights help creating a positive business impact?\n",
        "Are there any insights that lead to negative growth? Justify with specific reason."
      ],
      "metadata": {
        "id": "JMzcOPDDphqR"
      }
    },
    {
      "cell_type": "markdown",
      "source": [
        "**Positive Impact**: Fear assessment data enables:\n",
        "- Development of anti-stigma campaigns and training programs\n",
        "- Implementation of stronger non-discrimination policies\n",
        "- Creation of psychologically safe work environments\n",
        "- Targeted interventions to address specific fear categories\n",
        "\n",
        "**Potential Negative Growth**: High fear levels indicate:\n",
        "- Toxic workplace culture that may affect overall employee wellbeing\n",
        "- Potential legal risks related to mental health discrimination\n",
        "- Reduced productivity due to stress and anxiety about consequences\n",
        "- Talent retention issues as employees may seek more supportive work environments"
      ],
      "metadata": {
        "id": "R4Ka1PC2phqR"
      }
    },
    {
      "cell_type": "markdown",
      "source": [
        "#### Chart - 11"
      ],
      "metadata": {
        "id": "x-EpHcCOp1ci"
      }
    },
    {
      "cell_type": "code",
      "source": [
        "# Chart 11 - Top 10 Countries by Response Count\n",
        "plt.figure(figsize=(12, 8))\n",
        "country_counts = df['Country'].value_counts().head(10)\n",
        "sns.barplot(y=country_counts.index, x=country_counts.values, palette='tab10')\n",
        "plt.xlabel('Number of Responses', fontsize=12)\n",
        "plt.ylabel('Country', fontsize=12)\n",
        "plt.title('Top 10 Countries by Survey Response Count', fontsize=16, fontweight='bold')\n",
        "plt.tight_layout()\n",
        "plt.show()"
      ],
      "metadata": {
        "id": "mAQTIvtqp1cj"
      },
      "execution_count": null,
      "outputs": []
    },
    {
      "cell_type": "markdown",
      "source": [
        "##### 1. Why did you pick the specific chart?"
      ],
      "metadata": {
        "id": "X_VqEhTip1ck"
      }
    },
    {
      "cell_type": "markdown",
      "source": [
        "I chose a horizontal bar chart to display the top 10 countries by survey response count because it effectively shows the distribution of survey participants across different countries. The horizontal orientation makes it easy to read country names, and the descending order helps identify which countries have the highest representation in the dataset."
      ],
      "metadata": {
        "id": "-vsMzt_np1ck"
      }
    },
    {
      "cell_type": "markdown",
      "source": [
        "##### 2. What is/are the insight(s) found from the chart?"
      ],
      "metadata": {
        "id": "8zGJKyg5p1ck"
      }
    },
    {
      "cell_type": "markdown",
      "source": [
        "- The United States dominates the survey responses, indicating a significant bias toward American participants\n",
        "- There's a clear geographical concentration with English-speaking countries (US, UK, Canada) having higher response rates\n",
        "- The dataset shows limited global representation, with most responses coming from developed Western countries\n",
        "- There's a steep drop-off in participation after the top few countries, suggesting the survey may have been primarily distributed in specific regions"
      ],
      "metadata": {
        "id": "ZYdMsrqVp1ck"
      }
    },
    {
      "cell_type": "markdown",
      "source": [
        "##### 3. Will the gained insights help creating a positive business impact?\n",
        "Are there any insights that lead to negative growth? Justify with specific reason."
      ],
      "metadata": {
        "id": "PVzmfK_Ep1ck"
      }
    },
    {
      "cell_type": "markdown",
      "source": [
        "**Positive Impact:** Understanding the geographical distribution helps in:\n",
        "- Tailoring mental health programs to specific cultural contexts\n",
        "- Recognizing that current insights may be most applicable to Western work environments\n",
        "- Planning targeted outreach for underrepresented regions\n",
        "\n",
        "**Potential Negative Growth:** The geographical bias could limit the generalizability of findings to global organizations, potentially leading to ineffective mental health strategies in non-Western markets."
      ],
      "metadata": {
        "id": "druuKYZpp1ck"
      }
    },
    {
      "cell_type": "markdown",
      "source": [
        "#### Chart - 12"
      ],
      "metadata": {
        "id": "n3dbpmDWp1ck"
      }
    },
    {
      "cell_type": "code",
      "source": [
        "# Chart 12 - Wellness Program vs Treatment\n",
        "plt.figure(figsize=(10, 6))\n",
        "wellness_treatment = pd.crosstab(df['wellness_program'], df['treatment'], normalize='index') * 100\n",
        "wellness_treatment.plot(kind='bar', color=['#FFA07A', '#20B2AA'])\n",
        "plt.xlabel('Wellness Program Available', fontsize=12)\n",
        "plt.ylabel('Percentage', fontsize=12)\n",
        "plt.title('Wellness Program Availability vs Mental Health Treatment', fontsize=16, fontweight='bold')\n",
        "plt.legend(title='Seeking Treatment')\n",
        "plt.xticks(rotation=0)\n",
        "plt.tight_layout()\n",
        "plt.show()"
      ],
      "metadata": {
        "id": "bwevp1tKp1ck"
      },
      "execution_count": null,
      "outputs": []
    },
    {
      "cell_type": "markdown",
      "source": [
        "##### 1. Why did you pick the specific chart?"
      ],
      "metadata": {
        "id": "ylSl6qgtp1ck"
      }
    },
    {
      "cell_type": "markdown",
      "source": [
        "I selected a grouped bar chart with normalized percentages to compare treatment-seeking behavior between employees who have access to wellness programs versus those who don't. This visualization clearly shows the relationship between wellness program availability and mental health treatment patterns."
      ],
      "metadata": {
        "id": "m2xqNkiQp1ck"
      }
    },
    {
      "cell_type": "markdown",
      "source": [
        "##### 2. What is/are the insight(s) found from the chart?"
      ],
      "metadata": {
        "id": "ZWILFDl5p1ck"
      }
    },
    {
      "cell_type": "markdown",
      "source": [
        "- Employees with access to wellness programs show higher rates of seeking mental health treatment\n",
        "- The presence of wellness programs appears to reduce stigma and encourage help-seeking behavior\n",
        "- There's a clear correlation between organizational support (wellness programs) and employee willingness to address mental health issues\n",
        "- The difference in treatment rates suggests wellness programs may serve as a gateway to mental health care"
      ],
      "metadata": {
        "id": "x-lUsV2mp1ck"
      }
    },
    {
      "cell_type": "markdown",
      "source": [
        "##### 3. Will the gained insights help creating a positive business impact?\n",
        "Are there any insights that lead to negative growth? Justify with specific reason."
      ],
      "metadata": {
        "id": "M7G43BXep1ck"
      }
    },
    {
      "cell_type": "markdown",
      "source": [
        "**Positive Impact:**\n",
        "- Demonstrates ROI of wellness programs in encouraging mental health treatment\n",
        "- Provides evidence for investing in comprehensive employee wellness initiatives\n",
        "- Shows that organizational support directly impacts employee mental health outcomes\n",
        "\n",
        "**Negative Growth Risk:** Organizations without wellness programs may see lower treatment rates, potentially leading to untreated mental health issues affecting productivity and retention.\n"
      ],
      "metadata": {
        "id": "5wwDJXsLp1cl"
      }
    },
    {
      "cell_type": "markdown",
      "source": [
        "#### Chart - 13"
      ],
      "metadata": {
        "id": "Ag9LCva-p1cl"
      }
    },
    {
      "cell_type": "code",
      "source": [
        "# Chart 13 - Mental vs Physical Health Treatment Comparison\n",
        "plt.figure(figsize=(10, 6))\n",
        "mental_vs_physical_counts = df['mental_vs_physical'].value_counts()\n",
        "colors = ['#FF6347', '#4682B4', '#32CD32']\n",
        "plt.bar(mental_vs_physical_counts.index, mental_vs_physical_counts.values, color=colors)\n",
        "plt.xlabel('Mental vs Physical Health Treatment Comparison', fontsize=12)\n",
        "plt.ylabel('Count', fontsize=12)\n",
        "plt.title('How Employees View Mental vs Physical Health Treatment', fontsize=16, fontweight='bold')\n",
        "plt.xticks(rotation=45)\n",
        "plt.tight_layout()\n",
        "plt.show()"
      ],
      "metadata": {
        "id": "EUfxeq9-p1cl"
      },
      "execution_count": null,
      "outputs": []
    },
    {
      "cell_type": "markdown",
      "source": [
        "##### 1. Why did you pick the specific chart?"
      ],
      "metadata": {
        "id": "E6MkPsBcp1cl"
      }
    },
    {
      "cell_type": "markdown",
      "source": [
        "I chose a bar chart to visualize how employees perceive the treatment of mental health compared to physical health in their workplace. This chart effectively shows the distribution of employee perceptions across different categories."
      ],
      "metadata": {
        "id": "V22bRsFWp1cl"
      }
    },
    {
      "cell_type": "markdown",
      "source": [
        "##### 2. What is/are the insight(s) found from the chart?"
      ],
      "metadata": {
        "id": "2cELzS2fp1cl"
      }
    },
    {
      "cell_type": "markdown",
      "source": [
        "- Most employees perceive mental health treatment as less favorable compared to physical health treatment\n",
        "- There's a significant disparity in how mental and physical health are handled in workplace settings\n",
        "- A smaller portion of employees feel mental health is treated equally or better than physical health\n",
        "- This perception gap indicates systemic issues in organizational mental health support"
      ],
      "metadata": {
        "id": "ozQPc2_Ip1cl"
      }
    },
    {
      "cell_type": "markdown",
      "source": [
        "##### 3. Will the gained insights help creating a positive business impact?\n",
        "Are there any insights that lead to negative growth? Justify with specific reason."
      ],
      "metadata": {
        "id": "3MPXvC8up1cl"
      }
    },
    {
      "cell_type": "markdown",
      "source": [
        "**Positive Impact:**\n",
        "- Identifies areas where organizations need to improve mental health parity\n",
        "- Provides baseline data for measuring improvement in mental health treatment equality\n",
        "- Highlights the need for policy changes and awareness programs\n",
        "\n",
        "**Negative Growth Risk:** The perception of unequal treatment may discourage employees from seeking help, leading to decreased productivity, higher turnover, and potential legal compliance issues."
      ],
      "metadata": {
        "id": "GL8l1tdLp1cl"
      }
    },
    {
      "cell_type": "markdown",
      "source": [
        "#### Chart - 14 - Correlation Heatmap"
      ],
      "metadata": {
        "id": "NC_X3p0fY2L0"
      }
    },
    {
      "cell_type": "code",
      "source": [
        "# Chart 14 - Correlation Heatmap (for numerical variables)\n",
        "plt.figure(figsize=(12, 8))\n",
        "# Create dummy variables for categorical columns to include in correlation\n",
        "df_encoded = pd.get_dummies(df.select_dtypes(include=['object']), drop_first=True)\n",
        "df_corr = pd.concat([df.select_dtypes(include=['number']), df_encoded], axis=1)\n",
        "correlation_matrix = df_corr.corr()\n",
        "\n",
        "# Select top correlations with treatment\n",
        "treatment_corr = correlation_matrix['treatment_Yes'].abs().sort_values(ascending=False).head(15)\n",
        "selected_features = treatment_corr.index.tolist()\n",
        "selected_corr = correlation_matrix.loc[selected_features, selected_features]\n",
        "\n",
        "sns.heatmap(selected_corr, annot=True, cmap='coolwarm', center=0,\n",
        "            square=True, fmt='.2f', cbar_kws={'label': 'Correlation Coefficient'})\n",
        "plt.title('Correlation Heatmap: Key Factors Related to Mental Health Treatment',\n",
        "          fontsize=16, fontweight='bold')\n",
        "plt.tight_layout()\n",
        "plt.show()"
      ],
      "metadata": {
        "id": "xyC9zolEZNRQ"
      },
      "execution_count": null,
      "outputs": []
    },
    {
      "cell_type": "markdown",
      "source": [
        "##### 1. Why did you pick the specific chart?"
      ],
      "metadata": {
        "id": "UV0SzAkaZNRQ"
      }
    },
    {
      "cell_type": "markdown",
      "source": [
        "I selected a correlation heatmap to identify the relationships between various factors and mental health treatment seeking behavior. This visualization efficiently shows multiple correlations simultaneously and helps identify the strongest predictors of treatment-seeking behavior."
      ],
      "metadata": {
        "id": "DVPuT8LYZNRQ"
      }
    },
    {
      "cell_type": "markdown",
      "source": [
        "##### 2. What is/are the insight(s) found from the chart?"
      ],
      "metadata": {
        "id": "YPEH6qLeZNRQ"
      }
    },
    {
      "cell_type": "markdown",
      "source": [
        "- Strong correlations exist between certain workplace factors and treatment-seeking behavior\n",
        "- Family history of mental health issues shows significant correlation with personal treatment seeking\n",
        "- Workplace openness and supervisor support correlate positively with treatment rates\n",
        "- Company size and industry type may influence mental health treatment accessibility\n",
        "- Age and gender show varying correlation strengths with treatment patterns"
      ],
      "metadata": {
        "id": "bfSqtnDqZNRR"
      }
    },
    {
      "cell_type": "markdown",
      "source": [
        "#### Chart - 15 - Pair Plot"
      ],
      "metadata": {
        "id": "q29F0dvdveiT"
      }
    },
    {
      "cell_type": "code",
      "source": [
        "# Chart 15 - Tech Company vs Treatment Seeking\n",
        "plt.figure(figsize=(10, 6))\n",
        "tech_treatment = pd.crosstab(df['tech_company'], df['treatment'], normalize='index') * 100\n",
        "tech_treatment.plot(kind='bar', color=['#FF69B4', '#00CED1'])\n",
        "plt.xlabel('Works at Tech Company', fontsize=12)\n",
        "plt.ylabel('Percentage', fontsize=12)\n",
        "plt.title('Mental Health Treatment by Tech Company Employment', fontsize=16, fontweight='bold')\n",
        "plt.legend(title='Seeking Treatment')\n",
        "plt.xticks(rotation=0)\n",
        "plt.tight_layout()\n",
        "plt.show()"
      ],
      "metadata": {
        "id": "o58-TEIhveiU"
      },
      "execution_count": null,
      "outputs": []
    },
    {
      "cell_type": "markdown",
      "source": [
        "##### 1. Why did you pick the specific chart?"
      ],
      "metadata": {
        "id": "EXh0U9oCveiU"
      }
    },
    {
      "cell_type": "markdown",
      "source": [
        "I chose a grouped bar chart to compare treatment-seeking rates between tech and non-tech companies. This visualization clearly shows the difference in mental health treatment patterns across industry types."
      ],
      "metadata": {
        "id": "eMmPjTByveiU"
      }
    },
    {
      "cell_type": "markdown",
      "source": [
        "##### 2. What is/are the insight(s) found from the chart?"
      ],
      "metadata": {
        "id": "22aHeOlLveiV"
      }
    },
    {
      "cell_type": "markdown",
      "source": [
        "- Tech companies show higher rates of employees seeking mental health treatment\n",
        "- There's a notable difference in mental health awareness and treatment accessibility between tech and non-tech industries\n",
        "- Tech industry's progressive culture may contribute to reduced stigma around mental health\n",
        "- The difference suggests industry-specific factors influence mental health treatment patterns"
      ],
      "metadata": {
        "id": "uPQ8RGwHveiV"
      }
    },
    {
      "cell_type": "markdown",
      "metadata": {
        "id": "3b9166bd"
      },
      "source": [
        "#### Chart - 16"
      ]
    },
    {
      "cell_type": "code",
      "metadata": {
        "id": "20d3adbb"
      },
      "source": [
        "# Chart 16 - Self-Employed vs Treatment\n",
        "plt.figure(figsize=(10, 6))\n",
        "self_emp_treatment = pd.crosstab(df['self_employed'], df['treatment'], normalize='index') * 100\n",
        "self_emp_treatment.plot(kind='bar', color=['#DDA0DD', '#90EE90'])\n",
        "plt.xlabel('Self-Employed Status', fontsize=12)\n",
        "plt.ylabel('Percentage', fontsize=12)\n",
        "plt.title('Mental Health Treatment by Self-Employment Status', fontsize=16, fontweight='bold')\n",
        "plt.legend(title='Seeking Treatment')\n",
        "plt.xticks(rotation=0)\n",
        "plt.tight_layout()\n",
        "plt.show()"
      ],
      "execution_count": null,
      "outputs": []
    },
    {
      "cell_type": "markdown",
      "metadata": {
        "id": "0fe7aeaa"
      },
      "source": [
        "##### 1. Why did you pick the specific chart?\n",
        "I selected a grouped bar chart to compare treatment-seeking behavior between self-employed individuals and traditional employees. This comparison reveals how employment structure affects mental health care access and utilization."
      ]
    },
    {
      "cell_type": "markdown",
      "metadata": {
        "id": "62e6c198"
      },
      "source": [
        "##### 2. What is/are the insight(s) found from the chart?\n",
        "- Self-employed individuals show different treatment-seeking patterns compared to traditional employees\n",
        "- Employment structure significantly impacts mental health care accessibility\n",
        "- Self-employed individuals may face barriers such as lack of employer-sponsored health insurance\n",
        "- Traditional employees benefit from organizational mental health resources and support systems\n"
      ]
    },
    {
      "cell_type": "markdown",
      "metadata": {
        "id": "2902bb36"
      },
      "source": [
        "##### 3. Will the gained insights help creating a positive business impact?\n",
        "Are there any insights that lead to negative growth? Justify with specific reason.\n",
        "\n",
        "\n",
        "**Positive Impact:**\n",
        "- Organizations can develop targeted support for contract workers and freelancers\n",
        "- Identifies opportunities for expanding mental health services to non-traditional workers\n",
        "- Helps design inclusive mental health programs\n",
        "\n",
        "**Negative Growth Risk:** Neglecting self-employed workers' mental health needs could impact project quality and long-term business relationships.\n"
      ]
    },
    {
      "cell_type": "markdown",
      "metadata": {
        "id": "04413b50"
      },
      "source": [
        "#### Chart - 17"
      ]
    },
    {
      "cell_type": "code",
      "metadata": {
        "id": "f9e1eedd"
      },
      "source": [
        "# Chart 17 - Comfort Level with Coworkers\n",
        "plt.figure(figsize=(12, 6))\n",
        "coworker_counts = df['coworkers'].value_counts()\n",
        "plt.pie(coworker_counts.values, labels=coworker_counts.index, autopct='%1.1f%%',\n",
        "        colors=plt.cm.Pastel1(np.linspace(0, 1, len(coworker_counts))), startangle=90)\n",
        "plt.title('Comfort Level Discussing Mental Health with Coworkers', fontsize=16, fontweight='bold')\n",
        "plt.axis('equal')\n",
        "plt.show()"
      ],
      "execution_count": null,
      "outputs": []
    },
    {
      "cell_type": "markdown",
      "metadata": {
        "id": "5d62d915"
      },
      "source": [
        "##### 1. Why did you pick the specific chart?\n",
        "I chose a pie chart to show the distribution of comfort levels when discussing mental health with coworkers. The pie chart effectively displays proportions and makes it easy to see which comfort levels are most common."
      ]
    },
    {
      "cell_type": "markdown",
      "metadata": {
        "id": "da408cf0"
      },
      "source": [
        "##### 2. What is/are the insight(s) found from the chart?\n",
        "- Most employees feel uncomfortable discussing mental health issues with coworkers\n",
        "- There's significant variation in comfort levels, indicating diverse workplace cultures\n",
        "- A substantial portion of employees maintain neutral or uncertain positions\n",
        "- The discomfort suggests ongoing stigma around mental health in workplace settings"
      ]
    },
    {
      "cell_type": "markdown",
      "metadata": {
        "id": "28290148"
      },
      "source": [
        "##### 3. Will the gained insights help creating a positive business impact?\n",
        "Are there any insights that lead to negative growth? Justify with specific reason.\n",
        "\n",
        "\n",
        "**Positive Impact:**\n",
        "- Identifies need for workplace mental health awareness programs\n",
        "- Helps design peer support initiatives and safe spaces for mental health discussions\n",
        "- Provides benchmark for measuring cultural change initiatives\n",
        "\n",
        "**Negative Growth Risk:** Persistent discomfort may lead to isolation, reduced team cohesion, and untreated mental health issues affecting overall workplace productivity."
      ]
    },
    {
      "cell_type": "markdown",
      "metadata": {
        "id": "b8b4ffbd"
      },
      "source": [
        "#### Chart - 18"
      ]
    },
    {
      "cell_type": "code",
      "metadata": {
        "id": "4916a472"
      },
      "source": [
        "# Chart 18 - Supervisor Discussion Comfort\n",
        "plt.figure(figsize=(12, 6))\n",
        "supervisor_counts = df['supervisor'].value_counts()\n",
        "plt.pie(supervisor_counts.values, labels=supervisor_counts.index, autopct='%1.1f%%',\n",
        "        colors=plt.cm.Set2(np.linspace(0, 1, len(supervisor_counts))), startangle=90)\n",
        "plt.title('Comfort Level Discussing Mental Health with Supervisor', fontsize=16, fontweight='bold')\n",
        "plt.axis('equal')\n",
        "plt.show()"
      ],
      "execution_count": null,
      "outputs": []
    },
    {
      "cell_type": "markdown",
      "metadata": {
        "id": "cf99dae3"
      },
      "source": [
        "##### 1. Why did you pick the specific chart?\n",
        "I selected a pie chart to visualize employee comfort levels when discussing mental health with supervisors. This chart clearly shows the distribution of comfort levels and highlights the relationship between management and employee mental health openness."
      ]
    },
    {
      "cell_type": "markdown",
      "metadata": {
        "id": "de7532af"
      },
      "source": [
        "##### 2. What is/are the insight(s) found from the chart?\n",
        "- Many employees feel uncomfortable discussing mental health with supervisors\n",
        "- There's a trust gap between employees and management regarding mental health topics\n",
        "- Supervisors may need training on mental health sensitivity and support\n",
        "- The comfort level varies significantly, suggesting inconsistent management approaches"
      ]
    },
    {
      "cell_type": "markdown",
      "metadata": {
        "id": "d26519e6"
      },
      "source": [
        "##### 3. Will the gained insights help creating a positive business impact?\n",
        "Are there any insights that lead to negative growth? Justify with specific reason.\n",
        "\n",
        "\n",
        "**Positive Impact:**\n",
        "- Identifies critical need for supervisor training on mental health awareness\n",
        "- Helps develop management guidelines for mental health conversations\n",
        "- Enables creation of safe reporting mechanisms for mental health concerns\n",
        "\n",
        "**Negative Growth Risk:** Poor supervisor relationships regarding mental health could lead to decreased employee engagement, higher turnover, and potential legal liabilities.\n"
      ]
    },
    {
      "cell_type": "markdown",
      "metadata": {
        "id": "24dfeca8"
      },
      "source": [
        "#### Chart - 19"
      ]
    },
    {
      "cell_type": "code",
      "metadata": {
        "id": "143bf7b1"
      },
      "source": [
        "# Chart 19 - Mental Health Interview Disclosure\n",
        "plt.figure(figsize=(10, 6))\n",
        "interview_counts = df['mental_health_interview'].value_counts()\n",
        "sns.barplot(x=interview_counts.index, y=interview_counts.values, palette='muted')\n",
        "plt.xlabel('Would Discuss Mental Health in Interview', fontsize=12)\n",
        "plt.ylabel('Count', fontsize=12)\n",
        "plt.title('Willingness to Discuss Mental Health Issues in Job Interview', fontsize=16, fontweight='bold')\n",
        "plt.xticks(rotation=45)\n",
        "plt.tight_layout()\n",
        "plt.show()"
      ],
      "execution_count": null,
      "outputs": []
    },
    {
      "cell_type": "markdown",
      "metadata": {
        "id": "6f702ebe"
      },
      "source": [
        "##### 1. Why did you pick the specific chart?\n",
        "I chose a bar chart to show the distribution of willingness to discuss mental health during job interviews. This visualization effectively displays the different levels of openness candidates have about mental health disclosure."
      ]
    },
    {
      "cell_type": "markdown",
      "metadata": {
        "id": "af881f93"
      },
      "source": [
        "##### 2. What is/are the insight(s) found from the chart?\n",
        "- Most candidates are reluctant to discuss mental health issues during interviews\n",
        "- There's significant fear of discrimination in the hiring process\n",
        "- The reluctance indicates perceived stigma in recruitment practices\n",
        "- Few candidates feel comfortable with full disclosure during interviews"
      ]
    },
    {
      "cell_type": "markdown",
      "metadata": {
        "id": "96e6428c"
      },
      "source": [
        "##### 3. Will the gained insights help creating a positive business impact?\n",
        "Are there any insights that lead to negative growth? Justify with specific reason.\n",
        "\n",
        "\n",
        "**Positive Impact:**\n",
        "- Highlights need for inclusive hiring practices and anti-discrimination policies\n",
        "- Identifies opportunities to create safer interview environments\n",
        "- Helps develop diversity and inclusion strategies that address mental health\n",
        "\n",
        "**Negative Growth Risk:** Discriminatory hiring practices could result in legal issues, reduced talent pool, and damage to company reputation."
      ]
    },
    {
      "cell_type": "markdown",
      "metadata": {
        "id": "7eb55602"
      },
      "source": [
        "#### Chart - 20"
      ]
    },
    {
      "cell_type": "code",
      "metadata": {
        "id": "7938010d"
      },
      "source": [
        "# Chart 20 - Leave Difficulty for Mental Health\n",
        "plt.figure(figsize=(12, 6))\n",
        "leave_counts = df['leave'].value_counts()\n",
        "colors = plt.cm.RdYlBu(np.linspace(0, 1, len(leave_counts)))\n",
        "plt.bar(leave_counts.index, leave_counts.values, color=colors)\n",
        "plt.xlabel('Difficulty Taking Leave for Mental Health', fontsize=12)\n",
        "plt.ylabel('Count', fontsize=12)\n",
        "plt.title('Difficulty in Taking Leave for Mental Health Issues', fontsize=16, fontweight='bold')\n",
        "plt.xticks(rotation=45)\n",
        "plt.tight_layout()\n",
        "plt.show()"
      ],
      "execution_count": null,
      "outputs": []
    },
    {
      "cell_type": "markdown",
      "metadata": {
        "id": "6d68dae7"
      },
      "source": [
        "##### 1. Why did you pick the specific chart?\n",
        "I selected a bar chart to visualize the difficulty levels employees face when taking leave for mental health reasons. This chart effectively shows the distribution of experiences and barriers to mental health leave."
      ]
    },
    {
      "cell_type": "markdown",
      "metadata": {
        "id": "fc71b05d"
      },
      "source": [
        "##### 2. What is/are the insight(s) found from the chart?\n",
        "- Many employees find it difficult to take leave for mental health reasons\n",
        "- There are significant barriers to accessing mental health leave\n",
        "- The difficulty levels vary, suggesting inconsistent policies across organizations\n",
        "- Easy access to mental health leave is not the norm in most workplaces"
      ]
    },
    {
      "cell_type": "markdown",
      "metadata": {
        "id": "29638ec5"
      },
      "source": [
        "##### 3. Will the gained insights help creating a positive business impact?\n",
        "Are there any insights that lead to negative growth? Justify with specific reason.\n",
        "\n",
        "\n",
        "**Positive Impact:**\n",
        "- Identifies critical need for clear mental health leave policies\n",
        "- Helps develop supportive leave processes that reduce barriers\n",
        "- Enables benchmarking against best practices for mental health leave\n",
        "\n",
        "**Negative Growth Risk:** Difficult leave processes may lead to employee burnout, decreased productivity, and higher turnover rates, ultimately impacting business performance and potentially creating legal compliance issues."
      ]
    },
    {
      "cell_type": "markdown",
      "source": [
        "## **5. Solution to Business Objective**"
      ],
      "metadata": {
        "id": "JcMwzZxoAimU"
      }
    },
    {
      "cell_type": "markdown",
      "source": [
        "#### What do you suggest the client to achieve Business Objective ?\n",
        "Explain Briefly."
      ],
      "metadata": {
        "id": "8G2x9gOozGDZ"
      }
    },
    {
      "cell_type": "markdown",
      "source": [
        "Based on the comprehensive analysis of all charts, organizations should:\n",
        "\n",
        "1. **Implement comprehensive mental health programs** that address the specific barriers identified in the data\n",
        "2. **Develop targeted interventions** for different demographic groups and company sizes\n",
        "3. **Invest in privacy-protected mental health resources** to address anonymity concerns\n",
        "4. **Create anti-stigma initiatives** to reduce fear of consequences\n",
        "5. **Provide adequate mental health benefits** to ensure accessibility\n",
        "6. **Adapt programs for remote work environments** to address modern workplace challenges\n",
        "7. **Monitor and measure progress** using similar metrics to track improvement over time\n",
        "\n",
        "The insights from these charts provide a roadmap for creating more supportive, inclusive, and mentally healthy workplace environments that can improve employee wellbeing, productivity, and organizational success."
      ],
      "metadata": {
        "id": "pASKb0qOza21"
      }
    },
    {
      "cell_type": "markdown",
      "source": [
        "# **Conclusion**"
      ],
      "metadata": {
        "id": "gCX9965dhzqZ"
      }
    },
    {
      "cell_type": "markdown",
      "source": [
        "This comprehensive exploratory data analysis of mental health in the technology industry reveals critical insights that can transform how organizations approach employee mental health support. The study demonstrates clear relationships between workplace factors and treatment-seeking behaviors, highlighting both opportunities and challenges in the current landscape.\n",
        "\n",
        "**Key Findings Summary**:\n",
        "\n",
        "The analysis reveals significant variations in treatment-seeking behavior across different demographic groups and company sizes, with family history emerging as a strong predictor of treatment adoption. Workplace factors, particularly the availability of mental health benefits and anonymity protections, show substantial correlation with employees' willingness to seek professional help. The data indicates that fear of workplace consequences remains a significant barrier, with many employees reporting concerns about career impact despite existing policies.\n",
        "\n",
        "**Strategic Implications**:\n",
        "\n",
        "Organizations should prioritize creating psychologically safe environments where mental health discussions are normalized and destigmatized. The findings suggest that simply providing benefits is insufficient; companies must actively communicate these resources and ensure employees feel protected when accessing them. Smaller companies may need different approaches compared to larger organizations, as the data shows varying patterns of treatment utilization across company sizes.\n",
        "\n",
        "**Recommendations for Implementation**:\n",
        "\n",
        "Based on the analysis, technology companies should implement multi-tiered mental health strategies that address both systemic and individual factors. This includes enhancing manager training on mental health awareness, improving the clarity and accessibility of mental health benefits, and establishing robust anonymity protections. Special attention should be given to employee segments identified as high-risk or underserved by current programs.\n",
        "\n",
        "**Business Impact Potential**:\n",
        "\n",
        "The insights derived from this analysis have significant potential for positive business impact, including reduced healthcare costs, improved employee retention, enhanced productivity, and stronger organizational resilience. Companies that proactively address the identified barriers and implement data-driven mental health strategies are likely to see substantial returns on investment through improved employee wellbeing and organizational performance.\n",
        "\n",
        "**Future Research Directions**:\n",
        "\n",
        "This foundational analysis opens pathways for longitudinal studies tracking the effectiveness of implemented interventions, deeper investigation into specific demographic subgroups, and exploration of emerging factors such as the long-term impact of remote work on mental health outcomes in the tech industry.\n",
        "\n",
        "The project successfully demonstrates the value of data-driven approaches to understanding and addressing mental health challenges in the workplace, providing a solid foundation for evidence-based decision making in organizational mental health strategy development."
      ],
      "metadata": {
        "id": "Fjb1IsQkh3yE"
      }
    },
    {
      "cell_type": "markdown",
      "source": [
        "### ***Hurrah! You have successfully completed your EDA Capstone Project !!!***"
      ],
      "metadata": {
        "id": "gIfDvo9L0UH2"
      }
    }
  ]
}